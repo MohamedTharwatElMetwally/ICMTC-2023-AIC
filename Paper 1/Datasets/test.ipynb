{
 "cells": [
  {
   "cell_type": "code",
   "execution_count": 1,
   "metadata": {},
   "outputs": [],
   "source": [
    "import pandas as pd"
   ]
  },
  {
   "cell_type": "code",
   "execution_count": 2,
   "metadata": {},
   "outputs": [],
   "source": [
    "data = pd.read_csv(r'ArabicMogalad_Ndeef.csv')"
   ]
  },
  {
   "cell_type": "code",
   "execution_count": 3,
   "metadata": {},
   "outputs": [
    {
     "data": {
      "text/html": [
       "<div>\n",
       "<style scoped>\n",
       "    .dataframe tbody tr th:only-of-type {\n",
       "        vertical-align: middle;\n",
       "    }\n",
       "\n",
       "    .dataframe tbody tr th {\n",
       "        vertical-align: top;\n",
       "    }\n",
       "\n",
       "    .dataframe thead th {\n",
       "        text-align: right;\n",
       "    }\n",
       "</style>\n",
       "<table border=\"1\" class=\"dataframe\">\n",
       "  <thead>\n",
       "    <tr style=\"text-align: right;\">\n",
       "      <th></th>\n",
       "      <th>Unnamed: 0</th>\n",
       "      <th>Text</th>\n",
       "      <th>Summary</th>\n",
       "    </tr>\n",
       "  </thead>\n",
       "  <tbody>\n",
       "    <tr>\n",
       "      <th>0</th>\n",
       "      <td>0</td>\n",
       "      <td>تقدم لكم موقع الدستور الالكتروني بثا مباشرا ل...</td>\n",
       "      <td>بث مباشر بدون تقطيع لمباراه مانشستر يونايتد و...</td>\n",
       "    </tr>\n",
       "    <tr>\n",
       "      <th>1</th>\n",
       "      <td>1</td>\n",
       "      <td>بعثه المنتخب المغربي تحل ب مالابو بلاعبين فقط...</td>\n",
       "      <td>بعثه المنتخب المغربي تحل ب مالابو بلاعبين فقط...</td>\n",
       "    </tr>\n",
       "    <tr>\n",
       "      <th>2</th>\n",
       "      <td>2</td>\n",
       "      <td>رقم المشاركه تساعد الملوخيه علي تهدئه الاعصاب...</td>\n",
       "      <td>الملوخيه لذيذه وصحيه</td>\n",
       "    </tr>\n",
       "    <tr>\n",
       "      <th>3</th>\n",
       "      <td>3</td>\n",
       "      <td>شرح محمد ابراهيم مدرب عام فريق بتروجيت الوسيل...</td>\n",
       "      <td>مدرب بتروجيت يشرح لالدستور كيف حافظ فريقه علي...</td>\n",
       "    </tr>\n",
       "    <tr>\n",
       "      <th>4</th>\n",
       "      <td>4</td>\n",
       "      <td>و السؤال كيف يضع ابليس عرشه علي الماء شاهد ال...</td>\n",
       "      <td>هل تعلم اين يعيش ابليس و ما هي علاقته بمثلث ب...</td>\n",
       "    </tr>\n",
       "    <tr>\n",
       "      <th>...</th>\n",
       "      <td>...</td>\n",
       "      <td>...</td>\n",
       "      <td>...</td>\n",
       "    </tr>\n",
       "    <tr>\n",
       "      <th>265471</th>\n",
       "      <td>265471</td>\n",
       "      <td>نجران شو ال ه المو افق اغسطس م و اس اكد مدير ...</td>\n",
       "      <td>عام مدير تعليم نجران انطلاق الدراسه في منطقه ...</td>\n",
       "    </tr>\n",
       "    <tr>\n",
       "      <th>265472</th>\n",
       "      <td>265472</td>\n",
       "      <td>الرياض شو ال ه المو افق اغسطس م و اس استقبل ص...</td>\n",
       "      <td>عام الامير فيصل بن بندر يستقبل رئيس الندوه ال...</td>\n",
       "    </tr>\n",
       "    <tr>\n",
       "      <th>265473</th>\n",
       "      <td>265473</td>\n",
       "      <td>جده شو ال ه المو افق اغسطس م و اس عقد مديرو ا...</td>\n",
       "      <td>عام مديرو السجون في المملكه يعقدون اجتماعهم ا...</td>\n",
       "    </tr>\n",
       "    <tr>\n",
       "      <th>265474</th>\n",
       "      <td>265474</td>\n",
       "      <td>القطيف شو ال ه المو افق اغسطس م و اس عقد المج...</td>\n",
       "      <td>عام بلدي القطيف يعقد جلسته العاديه الثامنه و ...</td>\n",
       "    </tr>\n",
       "    <tr>\n",
       "      <th>265475</th>\n",
       "      <td>265475</td>\n",
       "      <td>الرياض شو ال ه المو افق اغسطس م و اس نظمت جمع...</td>\n",
       "      <td>اجتماعي جمعيه كفيف تنظم دورات تدريبيه</td>\n",
       "    </tr>\n",
       "  </tbody>\n",
       "</table>\n",
       "<p>265476 rows × 3 columns</p>\n",
       "</div>"
      ],
      "text/plain": [
       "        Unnamed: 0                                               Text  \\\n",
       "0                0   تقدم لكم موقع الدستور الالكتروني بثا مباشرا ل...   \n",
       "1                1   بعثه المنتخب المغربي تحل ب مالابو بلاعبين فقط...   \n",
       "2                2   رقم المشاركه تساعد الملوخيه علي تهدئه الاعصاب...   \n",
       "3                3   شرح محمد ابراهيم مدرب عام فريق بتروجيت الوسيل...   \n",
       "4                4   و السؤال كيف يضع ابليس عرشه علي الماء شاهد ال...   \n",
       "...            ...                                                ...   \n",
       "265471      265471   نجران شو ال ه المو افق اغسطس م و اس اكد مدير ...   \n",
       "265472      265472   الرياض شو ال ه المو افق اغسطس م و اس استقبل ص...   \n",
       "265473      265473   جده شو ال ه المو افق اغسطس م و اس عقد مديرو ا...   \n",
       "265474      265474   القطيف شو ال ه المو افق اغسطس م و اس عقد المج...   \n",
       "265475      265475   الرياض شو ال ه المو افق اغسطس م و اس نظمت جمع...   \n",
       "\n",
       "                                                  Summary  \n",
       "0        بث مباشر بدون تقطيع لمباراه مانشستر يونايتد و...  \n",
       "1        بعثه المنتخب المغربي تحل ب مالابو بلاعبين فقط...  \n",
       "2                                   الملوخيه لذيذه وصحيه   \n",
       "3        مدرب بتروجيت يشرح لالدستور كيف حافظ فريقه علي...  \n",
       "4        هل تعلم اين يعيش ابليس و ما هي علاقته بمثلث ب...  \n",
       "...                                                   ...  \n",
       "265471   عام مدير تعليم نجران انطلاق الدراسه في منطقه ...  \n",
       "265472   عام الامير فيصل بن بندر يستقبل رئيس الندوه ال...  \n",
       "265473   عام مديرو السجون في المملكه يعقدون اجتماعهم ا...  \n",
       "265474   عام بلدي القطيف يعقد جلسته العاديه الثامنه و ...  \n",
       "265475             اجتماعي جمعيه كفيف تنظم دورات تدريبيه   \n",
       "\n",
       "[265476 rows x 3 columns]"
      ]
     },
     "execution_count": 3,
     "metadata": {},
     "output_type": "execute_result"
    }
   ],
   "source": [
    "data"
   ]
  },
  {
   "cell_type": "code",
   "execution_count": 14,
   "metadata": {},
   "outputs": [
    {
     "data": {
      "text/html": [
       "<div>\n",
       "<style scoped>\n",
       "    .dataframe tbody tr th:only-of-type {\n",
       "        vertical-align: middle;\n",
       "    }\n",
       "\n",
       "    .dataframe tbody tr th {\n",
       "        vertical-align: top;\n",
       "    }\n",
       "\n",
       "    .dataframe thead th {\n",
       "        text-align: right;\n",
       "    }\n",
       "</style>\n",
       "<table border=\"1\" class=\"dataframe\">\n",
       "  <thead>\n",
       "    <tr style=\"text-align: right;\">\n",
       "      <th></th>\n",
       "      <th>Unnamed: 0</th>\n",
       "      <th>Text</th>\n",
       "      <th>Summary</th>\n",
       "    </tr>\n",
       "  </thead>\n",
       "  <tbody>\n",
       "    <tr>\n",
       "      <th>0</th>\n",
       "      <td>0</td>\n",
       "      <td>تقدم لكم موقع الدستور الالكتروني بثا مباشرا ل...</td>\n",
       "      <td>بث مباشر بدون تقطيع لمباراه مانشستر يونايتد و...</td>\n",
       "    </tr>\n",
       "    <tr>\n",
       "      <th>1</th>\n",
       "      <td>1</td>\n",
       "      <td>بعثه المنتخب المغربي تحل ب مالابو بلاعبين فقط...</td>\n",
       "      <td>بعثه المنتخب المغربي تحل ب مالابو بلاعبين فقط...</td>\n",
       "    </tr>\n",
       "    <tr>\n",
       "      <th>2</th>\n",
       "      <td>2</td>\n",
       "      <td>رقم المشاركه تساعد الملوخيه علي تهدئه الاعصاب...</td>\n",
       "      <td>الملوخيه لذيذه وصحيه</td>\n",
       "    </tr>\n",
       "    <tr>\n",
       "      <th>3</th>\n",
       "      <td>3</td>\n",
       "      <td>شرح محمد ابراهيم مدرب عام فريق بتروجيت الوسيل...</td>\n",
       "      <td>مدرب بتروجيت يشرح لالدستور كيف حافظ فريقه علي...</td>\n",
       "    </tr>\n",
       "    <tr>\n",
       "      <th>4</th>\n",
       "      <td>4</td>\n",
       "      <td>و السؤال كيف يضع ابليس عرشه علي الماء شاهد ال...</td>\n",
       "      <td>هل تعلم اين يعيش ابليس و ما هي علاقته بمثلث ب...</td>\n",
       "    </tr>\n",
       "  </tbody>\n",
       "</table>\n",
       "</div>"
      ],
      "text/plain": [
       "   Unnamed: 0                                               Text  \\\n",
       "0           0   تقدم لكم موقع الدستور الالكتروني بثا مباشرا ل...   \n",
       "1           1   بعثه المنتخب المغربي تحل ب مالابو بلاعبين فقط...   \n",
       "2           2   رقم المشاركه تساعد الملوخيه علي تهدئه الاعصاب...   \n",
       "3           3   شرح محمد ابراهيم مدرب عام فريق بتروجيت الوسيل...   \n",
       "4           4   و السؤال كيف يضع ابليس عرشه علي الماء شاهد ال...   \n",
       "\n",
       "                                             Summary  \n",
       "0   بث مباشر بدون تقطيع لمباراه مانشستر يونايتد و...  \n",
       "1   بعثه المنتخب المغربي تحل ب مالابو بلاعبين فقط...  \n",
       "2                              الملوخيه لذيذه وصحيه   \n",
       "3   مدرب بتروجيت يشرح لالدستور كيف حافظ فريقه علي...  \n",
       "4   هل تعلم اين يعيش ابليس و ما هي علاقته بمثلث ب...  "
      ]
     },
     "execution_count": 14,
     "metadata": {},
     "output_type": "execute_result"
    }
   ],
   "source": [
    "data.head()"
   ]
  },
  {
   "cell_type": "code",
   "execution_count": 15,
   "metadata": {},
   "outputs": [
    {
     "data": {
      "text/plain": [
       "(265476, 3)"
      ]
     },
     "execution_count": 15,
     "metadata": {},
     "output_type": "execute_result"
    }
   ],
   "source": [
    "data.shape"
   ]
  },
  {
   "cell_type": "code",
   "execution_count": null,
   "metadata": {},
   "outputs": [],
   "source": []
  },
  {
   "cell_type": "code",
   "execution_count": 11,
   "metadata": {},
   "outputs": [
    {
     "data": {
      "text/plain": [
       "[' تقدم لكم موقع الدستور الالكتروني بثا مباشرا لمباراه مانشستر يونايتد امام ستوك سيتي المقرر لها بعد قليل علي ملعب او لد ترافورد ضمن منافسات الجو له السابعه من بطو له الدوري الانجليزي الممتاز البريميرليج للمشاهده اضغط هنا ']"
      ]
     },
     "execution_count": 11,
     "metadata": {},
     "output_type": "execute_result"
    }
   ],
   "source": [
    "list(data.iloc[:1,:]['Text'])"
   ]
  },
  {
   "cell_type": "code",
   "execution_count": 10,
   "metadata": {},
   "outputs": [
    {
     "data": {
      "text/plain": [
       "[' بث مباشر بدون تقطيع لمباراه مانشستر يونايتد وستوك سيتي في البريميرليج ']"
      ]
     },
     "execution_count": 10,
     "metadata": {},
     "output_type": "execute_result"
    }
   ],
   "source": [
    "list(data.iloc[:1,:]['Summary'])"
   ]
  },
  {
   "cell_type": "code",
   "execution_count": null,
   "metadata": {},
   "outputs": [],
   "source": []
  },
  {
   "cell_type": "code",
   "execution_count": 12,
   "metadata": {},
   "outputs": [
    {
     "data": {
      "text/plain": [
       "[' الزراعه بيع قطعتين من اراضي الدو له المسترده بمبلغ مليون جنيها صباحا كتب شيماء منصور قال حامد عبد الباقي المتحدث باسم وزاره الزراعه ان لجنه استرداد اراضي الدو له المنهوبه تقوم بمجهود جبار لاتمام عملها علي اكمل وجه و اضاف عبد الباقي خلال مداخله هاتفيه ببرنامج انفراد المذاع عبر فضائيه العاصمه انه كان يوجد مزاد صباح اليوم لبيع قطعه ارض و اكد انه تم بيع قطعتين ارض في منطقه المراشده بمحافظه قنا بمبلغ مليون جنيها مشيرا الي انه اثناء المزاد حصل نوعا من الهرج و المرج وتم ايقاف المزاد وسيتم استئنافه صباح اليوم لاستكمال البيع موضوعات ذات صله ']"
      ]
     },
     "execution_count": 12,
     "metadata": {},
     "output_type": "execute_result"
    }
   ],
   "source": [
    "list(data.iloc[999:1000,:]['Text'])"
   ]
  },
  {
   "cell_type": "code",
   "execution_count": 13,
   "metadata": {},
   "outputs": [
    {
     "data": {
      "text/plain": [
       "[' الزراعه بيع قطعتين من اراضي الدو له المسترده بمبلغ مليون جنيها ']"
      ]
     },
     "execution_count": 13,
     "metadata": {},
     "output_type": "execute_result"
    }
   ],
   "source": [
    "list(data.iloc[999:1000,:]['Summary'])"
   ]
  },
  {
   "cell_type": "code",
   "execution_count": null,
   "metadata": {},
   "outputs": [],
   "source": []
  }
 ],
 "metadata": {
  "kernelspec": {
   "display_name": "base",
   "language": "python",
   "name": "python3"
  },
  "language_info": {
   "codemirror_mode": {
    "name": "ipython",
    "version": 3
   },
   "file_extension": ".py",
   "mimetype": "text/x-python",
   "name": "python",
   "nbconvert_exporter": "python",
   "pygments_lexer": "ipython3",
   "version": "3.10.9"
  },
  "orig_nbformat": 4
 },
 "nbformat": 4,
 "nbformat_minor": 2
}
